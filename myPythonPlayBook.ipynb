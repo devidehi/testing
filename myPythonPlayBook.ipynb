{
 "cells": [
  {
   "cell_type": "code",
   "execution_count": 24,
   "metadata": {},
   "outputs": [
    {
     "name": "stdout",
     "output_type": "stream",
     "text": [
      "8\n"
     ]
    }
   ],
   "source": [
    "g = lambda x: x*x*x\n",
    "print(g(2))"
   ]
  },
  {
   "cell_type": "code",
   "execution_count": null,
   "metadata": {},
   "outputs": [],
   "source": [
    "s=str(\"Enter your name \")\n",
    "t=int(\"Enter your age \")\n",
    "u=float(\"Enter you average marks in graduation \")\n"
   ]
  },
  {
   "cell_type": "code",
   "execution_count": 21,
   "metadata": {},
   "outputs": [
    {
     "name": "stdout",
     "output_type": "stream",
     "text": [
      "Welcome into virtual world.\n",
      "Enter your name: Sunil\n",
      "Enter your age: 15\n",
      "Hi Sunil!! Sorry you are not eligible to enter into Virtual World!!\n"
     ]
    }
   ],
   "source": [
    "print(\"Welcome into virtual world.\")\n",
    "s=str(input(\"Enter your name: \"))\n",
    "t=int(input(\"Enter your age: \"))\n",
    "if t<16:\n",
    "    print(\"Hi\",s+\"!!\",\"Sorry you are not eligible to enter into Virtual World!!\")\n",
    "else:\n",
    "    print(\"Welcome\",s,\"in the virtual world!!\")"
   ]
  },
  {
   "cell_type": "code",
   "execution_count": 13,
   "metadata": {},
   "outputs": [
    {
     "name": "stdout",
     "output_type": "stream",
     "text": [
      "Type of the book.\n"
     ]
    }
   ],
   "source": [
    "class Books():\n",
    "    def book_type(self):\n",
    "        print(\"Type of the book.\")\n",
    "b=Books()\n",
    "b.book_type()\n",
    "    "
   ]
  },
  {
   "cell_type": "code",
   "execution_count": 4,
   "metadata": {},
   "outputs": [
    {
     "name": "stdout",
     "output_type": "stream",
     "text": [
      "The mighty hunter:  Elmer Fudd\n"
     ]
    }
   ],
   "source": [
    "class Person():\n",
    "    def __init__(self, name):\n",
    "        self.name = name\n",
    "hunter = Person('Elmer Fudd')\n",
    "print('The mighty hunter: ', hunter.name)"
   ]
  },
  {
   "cell_type": "code",
   "execution_count": 3,
   "metadata": {},
   "outputs": [
    {
     "name": "stdout",
     "output_type": "stream",
     "text": [
      "OrderedDict([('a', 1), ('b', 2), ('c', 3), ('d', 4), ('e', 5)])\n"
     ]
    }
   ],
   "source": [
    "import collections\n",
    "plain=collections.OrderedDict({'a': 1, 'b': 2,'c':3,'d':4,'e':5})\n",
    "print(plain)"
   ]
  },
  {
   "cell_type": "code",
   "execution_count": 247,
   "metadata": {},
   "outputs": [
    {
     "name": "stdout",
     "output_type": "stream",
     "text": [
      "start\n",
      "Hello, Good Morning!\n",
      "end\n"
     ]
    }
   ],
   "source": [
    "#Decorators\n",
    "def test(func):\n",
    "    def new_func(*args, **kwargs): \n",
    "        print('start')\n",
    "        result = func(*args, **kwargs) \n",
    "        print('end')\n",
    "        return result\n",
    "    return new_func\n",
    "@test\n",
    "def greeting():\n",
    "    print(\"Hello, Good Morning!\")\n",
    "greeting()"
   ]
  },
  {
   "cell_type": "code",
   "execution_count": 248,
   "metadata": {},
   "outputs": [
    {
     "name": "stdout",
     "output_type": "stream",
     "text": [
      "Third value is  5\n"
     ]
    }
   ],
   "source": [
    "def get_odds():\n",
    "    for i in range(1,10,2):\n",
    "        yield i\n",
    "for count,values in enumerate(get_odds(),1):\n",
    "    if count == 3:\n",
    "        print(\"Third value is \",values)\n",
    "        break\n"
   ]
  },
  {
   "cell_type": "code",
   "execution_count": 249,
   "metadata": {},
   "outputs": [
    {
     "name": "stdout",
     "output_type": "stream",
     "text": [
      "['Harry', 'Ron', 'Hermione']\n"
     ]
    }
   ],
   "source": [
    "def good():\n",
    "    return ['Harry', 'Ron', 'Hermione']\n",
    "print(good())"
   ]
  },
  {
   "cell_type": "code",
   "execution_count": 250,
   "metadata": {},
   "outputs": [
    {
     "name": "stdout",
     "output_type": "stream",
     "text": [
      "Got 0\n",
      "Got 1\n",
      "Got 2\n",
      "Got 3\n",
      "Got 4\n",
      "Got 5\n",
      "Got 6\n",
      "Got 7\n",
      "Got 8\n",
      "Got 9\n"
     ]
    }
   ],
   "source": [
    "for i in ('Got %s' %n for n in range(10)):\n",
    "    print(i)"
   ]
  },
  {
   "cell_type": "code",
   "execution_count": 251,
   "metadata": {},
   "outputs": [
    {
     "name": "stdout",
     "output_type": "stream",
     "text": [
      "{1, 3, 5, 7, 9}\n"
     ]
    }
   ],
   "source": [
    "#Set Comprehension for finding the odd values\n",
    "s={i for i in range(10) if i%2 == 1}\n",
    "print(s)"
   ]
  },
  {
   "cell_type": "code",
   "execution_count": null,
   "metadata": {},
   "outputs": [],
   "source": [
    "#Guess me program\n",
    "guess_me=7\n",
    "x=int(input(\"Enter any number to guess: \"))\n",
    "if x<7:\n",
    "    print(\"Too Low!!\")\n",
    "elif x>7:\n",
    "    print(\"Too High!!\")\n",
    "elif x==7:\n",
    "    print(\"just right!!\")\n",
    "else:\n",
    "    print(\"Please enter an integer!!\")"
   ]
  },
  {
   "cell_type": "code",
   "execution_count": null,
   "metadata": {},
   "outputs": [],
   "source": [
    "#Guess me program\n",
    "start=1\n",
    "guess_me=7\n",
    "while True:\n",
    "    if start == guess_me:\n",
    "        print('found it!')\n",
    "        break\n",
    "    elif start > guess_me:\n",
    "        print('oops')\n",
    "        break\n",
    "    elif start < guess_me:\n",
    "        print(\"Too Low!\")\n",
    "    start += 1\n",
    "    \n"
   ]
  },
  {
   "cell_type": "code",
   "execution_count": 147,
   "metadata": {},
   "outputs": [
    {
     "name": "stdout",
     "output_type": "stream",
     "text": [
      "Enter the range for getting even numbers: 20\n",
      "[2, 4, 6, 8, 10, 12, 14, 16, 18, 20]\n"
     ]
    }
   ],
   "source": [
    "#List of even numbers in the range by list comprehension\n",
    "n=int(input(\"Enter the range for getting even numbers: \"))\n",
    "s=[i for i in range(1,n+1) if i%2==0]\n",
    "print(s)"
   ]
  },
  {
   "cell_type": "code",
   "execution_count": 149,
   "metadata": {},
   "outputs": [
    {
     "name": "stdout",
     "output_type": "stream",
     "text": [
      "{0: 0, 1: 1, 2: 4, 3: 9, 4: 16, 5: 25, 6: 36, 7: 49, 8: 64, 9: 81}\n"
     ]
    }
   ],
   "source": [
    "#List of squares of numbers in the range by dict comprehension\n",
    "d={i:i**2 for i in range(10)}\n",
    "print(d)"
   ]
  }
 ],
 "metadata": {
  "kernelspec": {
   "display_name": "Python 3",
   "language": "python",
   "name": "python3"
  },
  "language_info": {
   "codemirror_mode": {
    "name": "ipython",
    "version": 3
   },
   "file_extension": ".py",
   "mimetype": "text/x-python",
   "name": "python",
   "nbconvert_exporter": "python",
   "pygments_lexer": "ipython3",
   "version": "3.7.4"
  }
 },
 "nbformat": 4,
 "nbformat_minor": 2
}
